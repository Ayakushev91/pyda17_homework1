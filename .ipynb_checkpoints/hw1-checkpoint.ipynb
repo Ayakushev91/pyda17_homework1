{
 "cells": [
  {
   "cell_type": "markdown",
   "metadata": {},
   "source": [
    "## Задание 1"
   ]
  },
  {
   "cell_type": "code",
   "execution_count": 18,
   "metadata": {},
   "outputs": [
    {
     "name": "stdout",
     "output_type": "stream",
     "text": [
      "Насколько проще было бы писать программы, если бы не заказчики\n"
     ]
    }
   ],
   "source": [
    "phrase_1 = input()"
   ]
  },
  {
   "cell_type": "code",
   "execution_count": 19,
   "metadata": {},
   "outputs": [
    {
     "name": "stdout",
     "output_type": "stream",
     "text": [
      "Насколько проще было бы писать программы, если бы не заказчики\n"
     ]
    }
   ],
   "source": [
    "phrase_2 = input()"
   ]
  },
  {
   "cell_type": "code",
   "execution_count": 20,
   "metadata": {},
   "outputs": [],
   "source": [
    "a = len(phrase_1)"
   ]
  },
  {
   "cell_type": "code",
   "execution_count": 21,
   "metadata": {},
   "outputs": [],
   "source": [
    "b = len(phrase_2)"
   ]
  },
  {
   "cell_type": "code",
   "execution_count": 22,
   "metadata": {
    "scrolled": true
   },
   "outputs": [
    {
     "name": "stdout",
     "output_type": "stream",
     "text": [
      "Фразы равной длины\n"
     ]
    }
   ],
   "source": [
    "if a > b:\n",
    "    print('Фраза 1 длиннее фразы 2')\n",
    "elif a == b:\n",
    "    print('Фразы равной длины')\n",
    "else:\n",
    "    print('Фраза 2 длиннее фразы 1')    "
   ]
  },
  {
   "cell_type": "markdown",
   "metadata": {},
   "source": [
    "## Задание 2"
   ]
  },
  {
   "cell_type": "code",
   "execution_count": 31,
   "metadata": {},
   "outputs": [
    {
     "name": "stdout",
     "output_type": "stream",
     "text": [
      "2019\n",
      "Обычный год\n"
     ]
    }
   ],
   "source": [
    "year = int(input())\n",
    "if (year % 4) == 0:\n",
    "    print('Високосный год')\n",
    "else:\n",
    "    print('Обычный год')"
   ]
  },
  {
   "cell_type": "markdown",
   "metadata": {},
   "source": [
    "## Задание 3"
   ]
  },
  {
   "cell_type": "code",
   "execution_count": 35,
   "metadata": {},
   "outputs": [
    {
     "name": "stdout",
     "output_type": "stream",
     "text": [
      "Введите день29\n",
      "Введите месяц10\n",
      "Ваш знак зодиака: Скорпион\n"
     ]
    }
   ],
   "source": [
    "a = int(input('Введите день'))\n",
    "b = int(input('Введите месяц'))\n",
    "if (a >= 21 and b ==3) or (a <= 20 and b == 4):\n",
    "    print('Ваш знак зодиака: Овен')\n",
    "elif (a >= 21 and b ==4) or (a <= 21 and b == 5):\n",
    "    print('Ваш знак зодиака: Телец')\n",
    "elif (a >= 22 and b ==5) or (a <= 21 and b == 6):\n",
    "    print('Ваш знак зодиака: Близнецы')  \n",
    "elif (a >= 22 and b ==6) or (a <= 22 and b == 7):\n",
    "    print('Ваш знак зодиака: Рак')  \n",
    "elif (a >= 23 and b ==7) or (a <= 21 and b == 8):\n",
    "    print('Ваш знак зодиака: Лев')     \n",
    "elif (a >= 22 and b ==8) or (a <= 23 and b == 9):\n",
    "    print('Ваш знак зодиака: Дева')   \n",
    "elif (a >= 24 and b ==9) or (a <= 23 and b == 10):\n",
    "    print('Ваш знак зодиака: Весы')   \n",
    "elif (a >= 24 and b ==10) or (a <= 23 and b == 11):\n",
    "    print('Ваш знак зодиака: Скорпион') \n",
    "elif (a >= 24 and b ==11) or (a <= 22 and b == 12):\n",
    "    print('Ваш знак зодиака: Стрелец')    \n",
    "elif (a >= 23 and b ==12) or (a <= 20 and b == 1):\n",
    "    print('Ваш знак зодиака: Козерог')  \n",
    "elif (a >= 21 and b ==1) or (a <= 19 and b == 2):\n",
    "    print('Ваш знак зодиака: Водолей')   \n",
    "else:\n",
    "    print('Ваш знак зодиака: Рыбы')\n",
    "      "
   ]
  },
  {
   "cell_type": "markdown",
   "metadata": {},
   "source": [
    "## Задание 4"
   ]
  },
  {
   "cell_type": "code",
   "execution_count": null,
   "metadata": {},
   "outputs": [],
   "source": [
    "a = int(input(\"width\"))\n",
    "b = int(input(\"length\"))\n",
    "c = int(input(\"height\"))"
   ]
  },
  {
   "cell_type": "code",
   "execution_count": null,
   "metadata": {},
   "outputs": [],
   "source": []
  }
 ],
 "metadata": {
  "kernelspec": {
   "display_name": "Python 3",
   "language": "python",
   "name": "python3"
  },
  "language_info": {
   "codemirror_mode": {
    "name": "ipython",
    "version": 3
   },
   "file_extension": ".py",
   "mimetype": "text/x-python",
   "name": "python",
   "nbconvert_exporter": "python",
   "pygments_lexer": "ipython3",
   "version": "3.6.5"
  }
 },
 "nbformat": 4,
 "nbformat_minor": 2
}
